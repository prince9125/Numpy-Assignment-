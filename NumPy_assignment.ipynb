{
  "nbformat": 4,
  "nbformat_minor": 0,
  "metadata": {
    "colab": {
      "provenance": []
    },
    "kernelspec": {
      "name": "python3",
      "display_name": "Python 3"
    },
    "language_info": {
      "name": "python"
    }
  },
  "cells": [
    {
      "cell_type": "markdown",
      "source": [
        "### **Theoretical Questions:**"
      ],
      "metadata": {
        "id": "z3NsV79h_1el"
      }
    },
    {
      "cell_type": "markdown",
      "source": [
        "**1. Explain the purpose and advantages of NumPy in scientific computing and data analysis. How does it enhance Python's capabilities for numerical operations?**\n",
        "\n",
        "Answer:NumPy is an indispensable tool for scientific computing, data analysis, and numerical computations in Python. Its ability to efficiently handle arrays, perform complex mathematical operations, and seamlessly integrate with other libraries solidifies its position as the cornerstone of numerical computing in Python."
      ],
      "metadata": {
        "id": "5qPZRnaN_9vK"
      }
    },
    {
      "cell_type": "markdown",
      "source": [
        "**2. Compare and contrast np.mean() and np.average() functions in NumPy. When would you use one over the other?**\n",
        "\n",
        "Answer:The np. mean() method returns the arithmetic mean, but the np. average() function returns the algebraic mean if no additional parameters are specified, but it may also be used to compute a weighted average"
      ],
      "metadata": {
        "id": "ialHjxDgAHFW"
      }
    },
    {
      "cell_type": "markdown",
      "source": [
        "**3. Describe the methods for reversing a NumPy array along different axes. Provide examples for 1D and 2D arrays**\n",
        "\n",
        "Answer: As we know Numpy is a general-purpose array-processing package that provides a high-performance multidimensional array object."
      ],
      "metadata": {
        "id": "7EEQWzscAMWc"
      }
    },
    {
      "cell_type": "code",
      "source": [
        "#example\n",
        "import numpy as np\n",
        "\n",
        "# initialising numpy array\n",
        "ini_array = np.array([7, 8, 9, 10, 11])\n",
        "\n",
        "# using shortcut method to reverse\n",
        "res = np.flip(ini_array)\n",
        "\n",
        "# printing result\n",
        "print(\"final array\", str(res))"
      ],
      "metadata": {
        "colab": {
          "base_uri": "https://localhost:8080/"
        },
        "id": "3aKrGchfAXYN",
        "outputId": "9b08e93b-f40f-445d-8bb2-bbf9582a8ec8"
      },
      "execution_count": 1,
      "outputs": [
        {
          "output_type": "stream",
          "name": "stdout",
          "text": [
            "final array [11 10  9  8  7]\n"
          ]
        }
      ]
    },
    {
      "cell_type": "markdown",
      "source": [
        "**4. How can you determine the data type of elements in a NumPy array? Discuss the importance of data types in memory management and performance.**\n",
        "\n",
        "Answer: We can check the datatype of Numpy array by using dtype. Then it returns the data type all the elements in the array. In the given example below we import NumPy library and craete an array using “array()” method with integer value. Then we store the data type of the array in a variable named “data_type” using the ‘dtype’ attribute, and after then we can finally, we print the data type."
      ],
      "metadata": {
        "id": "UFPfPJvEAjoR"
      }
    },
    {
      "cell_type": "markdown",
      "source": [
        "**5. Define ndarrays in NumPy and explain their key features. How do they differ from standard Python lists?**\n",
        "\n",
        "Answer: NumPy is the fundamental package for scientific computing in Python. Numpy arrays facilitate advanced mathematical and other types of operations on large numbers of data.\n",
        "\n",
        "**Some important points about Numpy arrays:**\n",
        "\n",
        ".We can create an N-dimensional array in Python using Numpy.array().\n",
        "\n",
        ".The array is by default Homogeneous, which means data inside an array must be of the same Datatype. (Note You can also create a structured array in Python).\n",
        "\n",
        ".Element-wise operation is possible.\n",
        "\n",
        ". Numpy array has various functions, methods, and variables, to ease our task of matrix computation.\n",
        "\n",
        ". Elements of an array are stored contiguously in memory. For example, all rows of a two-dimensioned array must have the same number of columns. A three-dimensional array must have the same number of rows and columns on each card.\n",
        "\n",
        "**Comparison between Numpy array and Python List**\n",
        "\n",
        ". Element Overhead: Lists in Python store additional information about each element, such as its type and reference count. This overhead can be significant when dealing with a large number of elements.\n",
        "\n",
        ". Datatype: Lists can hold different data types, but this can decrease memory efficiency and slow numerical operations.\n",
        "\n",
        ". Memory Fragmentation: Lists may not store elements in contiguous memory locations, causing memory fragmentation and inefficiency.\n",
        "\n",
        ". Performance: Lists are not optimized for numerical computations and may have slower mathematical operations due to Python’s interpretation overhead. They are generally used as general-purpose data structures.\n",
        "\n",
        "\n",
        "\n"
      ],
      "metadata": {
        "id": "1uU4OZ14Aoii"
      }
    },
    {
      "cell_type": "markdown",
      "source": [
        "**6. Analyze the performance benefits of NumPy arrays over Python lists for large-scale numerical operations.**\n",
        "\n",
        "Answer: Performance: NumPy's array operations are executed at compiled C speed, making them significantly faster than equivalent operations performed using Python lists. This performance boost is vital for handling large datasets and complex computations efficiently."
      ],
      "metadata": {
        "id": "lQiuYrrdBcYS"
      }
    },
    {
      "cell_type": "markdown",
      "source": [
        "**7. Compare vstack() and hstack() functions in NumPy. Provide examples demonstrating their usage and output.**\n",
        "\n",
        "Answer: numpy.vstack() function is used to stack the sequence of input arrays vertically to make a single array.\n",
        "\n",
        "Syntax : numpy.vstack(tup)\n",
        "\n",
        "Parameters :\n",
        "\n",
        "tup : [sequence of ndarrays] Tuple containing arrays to be stacked. The arrays must have the same shape along all but the first axis.\n",
        "\n",
        "Return : [stacked ndarray] The stacked array of the input arrays."
      ],
      "metadata": {
        "id": "7sVTJ71zBiVa"
      }
    },
    {
      "cell_type": "code",
      "source": [
        "# Python program explaining\n",
        "# vstack() function\n",
        "\n",
        "import numpy as geek\n",
        "\n",
        "# input array\n",
        "in_arr1 = geek.array([ 4, 5, 6] )\n",
        "print (\"1st Input array : \\n\", in_arr1)\n",
        "\n",
        "in_arr2 = geek.array([ 10, 11, 12] )\n",
        "print (\"2nd Input array : \\n\", in_arr2)\n",
        "\n",
        "# Stacking the two arrays vertically\n",
        "out_arr = geek.vstack((in_arr1, in_arr2))\n",
        "print (\"Output vertically stacked array:\\n \", out_arr)"
      ],
      "metadata": {
        "colab": {
          "base_uri": "https://localhost:8080/"
        },
        "id": "ZRfC6LmlCCw0",
        "outputId": "d6337624-c8a7-4b3d-c858-5c9c4b19ef01"
      },
      "execution_count": 2,
      "outputs": [
        {
          "output_type": "stream",
          "name": "stdout",
          "text": [
            "1st Input array : \n",
            " [4 5 6]\n",
            "2nd Input array : \n",
            " [10 11 12]\n",
            "Output vertically stacked array:\n",
            "  [[ 4  5  6]\n",
            " [10 11 12]]\n"
          ]
        }
      ]
    },
    {
      "cell_type": "markdown",
      "source": [
        "numpy.hstack() function is used to stack the sequence of input arrays horizontally (i.e. column wise) to make a single array.\n",
        "\n",
        "Syntax : numpy.hstack(tup)\n",
        "\n",
        "Parameters :\n",
        "\n",
        "tup : [sequence of ndarrays] Tuple containing arrays to be stacked. The arrays must have the same shape along all but the second axis.\n",
        "\n",
        "Return : [stacked ndarray] The stacked array of the input arrays."
      ],
      "metadata": {
        "id": "g0lBK_iZCTnp"
      }
    },
    {
      "cell_type": "code",
      "source": [
        "# Python program explaining\n",
        "# hstack() function\n",
        "\n",
        "import numpy as geek\n",
        "\n",
        "# input array\n",
        "in_arr1 = geek.array([ 4, 5, 6] )\n",
        "print (\"1st Input array : \\n\", in_arr1)\n",
        "\n",
        "in_arr2 = geek.array([ 11, 12, 13] )\n",
        "print (\"2nd Input array : \\n\", in_arr2)\n",
        "\n",
        "# Stacking the two arrays horizontally\n",
        "out_arr = geek.hstack((in_arr1, in_arr2))\n",
        "print (\"Output horizontally stacked array:\\n \", out_arr)"
      ],
      "metadata": {
        "colab": {
          "base_uri": "https://localhost:8080/"
        },
        "id": "XfBS5-4zCUwZ",
        "outputId": "fc1388f7-d2d4-4c32-b8f9-dc2d9abd319c"
      },
      "execution_count": 3,
      "outputs": [
        {
          "output_type": "stream",
          "name": "stdout",
          "text": [
            "1st Input array : \n",
            " [4 5 6]\n",
            "2nd Input array : \n",
            " [11 12 13]\n",
            "Output horizontally stacked array:\n",
            "  [ 4  5  6 11 12 13]\n"
          ]
        }
      ]
    },
    {
      "cell_type": "markdown",
      "source": [
        "**8. Explain the differences between fliplr() and flipud() methods in NumPy, including their effects on various array dimensions.**\n",
        "\n",
        "Answer: The main difference is that NumPy arrays are much faster and have strict requirements on the homogeneity of the objects. For example, a NumPy array of strings can only contain strings and no other data types, but a Python list can contain a mixture of strings, numbers, booleans and other objects."
      ],
      "metadata": {
        "id": "3Ao-cXOKCejr"
      }
    },
    {
      "cell_type": "markdown",
      "source": [
        "**9. Discuss the functionality of the array_split() method in NumPy. How does it handle uneven splits?**\n",
        "\n",
        "Answer: array_split() s plitting into equal or nearly equal sub-arrays or is similar to numpy. split(), but it allows for uneven splitting of arrays. This is useful when the array cannot be evenly divided by the specified number of splits."
      ],
      "metadata": {
        "id": "TxZvsR_6CnBr"
      }
    },
    {
      "cell_type": "markdown",
      "source": [
        "**10. Explain the concepts of vectorization and broadcasting in NumPy. How do they contribute to efficient array operations?**\n",
        "\n",
        "Answer: Broadcasting provides a means of vectorizing array operations so that looping occurs in C instead of Python. It does this without making needless copies of data and usually leads to efficient algorithm implementations."
      ],
      "metadata": {
        "id": "lK01iSSSCvbY"
      }
    },
    {
      "cell_type": "markdown",
      "source": [
        "### **Practical Questions:**"
      ],
      "metadata": {
        "id": "nAMVepJ9DAnZ"
      }
    },
    {
      "cell_type": "markdown",
      "source": [
        "**1. Create a 3x3 NumPy array with random integers between 1 and 100. Then, interchange its rows and columns.**\n",
        "\n",
        "Answer:"
      ],
      "metadata": {
        "id": "DyFihgspDJaL"
      }
    },
    {
      "cell_type": "code",
      "source": [
        "import numpy as np\n",
        "random_matrix = np.random.randint(1,100,size=(7,7))\n",
        "print(random_matrix)"
      ],
      "metadata": {
        "colab": {
          "base_uri": "https://localhost:8080/"
        },
        "id": "uGbhQDBgDSGt",
        "outputId": "3e112ae1-a0ee-495e-f5a2-73ec8613b80f"
      },
      "execution_count": 4,
      "outputs": [
        {
          "output_type": "stream",
          "name": "stdout",
          "text": [
            "[[54 30 81 65 51 48 37]\n",
            " [97 75 35 54 21 74 70]\n",
            " [39 61 36  9 99 88  7]\n",
            " [88 15 31 79 97 49 62]\n",
            " [66 43  1 44 81 33 41]\n",
            " [97 11 54 36 44 92 92]\n",
            " [23 42  1 95 71 11 10]]\n"
          ]
        }
      ]
    },
    {
      "cell_type": "markdown",
      "source": [
        "**2. Generate a 1D NumPy array with 10 elements. Reshape it into a 2x5 array, then into a 5x2 array.**\n",
        "\n",
        "Answer:"
      ],
      "metadata": {
        "id": "z6ho4teqDYIM"
      }
    },
    {
      "cell_type": "code",
      "source": [
        "import numpy as np\n",
        "# 1-D array having elements [1 2 3 4 5 6 7 8 9 1]\n",
        "arr = np.array([1, 2, 3, 4, 5, 6, 7, 8, 9, 1])\n",
        "\n",
        "# Now we can convert this 1-D array into 2-D in two ways\n",
        "\n",
        "# 1. having dimension 2 x 5\n",
        "arr1 = arr.reshape(2, 5)\n",
        "print ('After reshaping having dimension 2x5:')\n",
        "print (arr1)\n",
        "print ('\\n')\n",
        "\n",
        "# 2. having dimension 5 x 2\n",
        "arr2 = arr.reshape(5, 2)\n",
        "print ('After reshaping having dimension 5x2:')\n",
        "print (arr2)\n",
        "print ('\\n')"
      ],
      "metadata": {
        "colab": {
          "base_uri": "https://localhost:8080/"
        },
        "id": "vw7P0OI-EGZI",
        "outputId": "ec191c02-57ce-4a04-eb46-d41dea0c9437"
      },
      "execution_count": 6,
      "outputs": [
        {
          "output_type": "stream",
          "name": "stdout",
          "text": [
            "After reshaping having dimension 2x5:\n",
            "[[1 2 3 4 5]\n",
            " [6 7 8 9 1]]\n",
            "\n",
            "\n",
            "After reshaping having dimension 5x2:\n",
            "[[1 2]\n",
            " [3 4]\n",
            " [5 6]\n",
            " [7 8]\n",
            " [9 1]]\n",
            "\n",
            "\n"
          ]
        }
      ]
    },
    {
      "cell_type": "markdown",
      "source": [
        "**3. Create a 4x4 NumPy array with random float values. Add a border of zeros around it, resulting in a 6x6 array.**\n",
        "\n",
        "Answer:"
      ],
      "metadata": {
        "id": "hnFa1EahEIiL"
      }
    },
    {
      "cell_type": "code",
      "source": [
        "\n",
        "import numpy as np\n",
        "from math import sqrt\n",
        "\n",
        "#  Element 1\n",
        "C_1= 3/5\n",
        "S_1= 4/5\n",
        "matrix_1 = np.matrix([[C_1**2, C_1*S_1,-C_1**2,-C_1*S_1],[C_1*S_1,S_1**2,-C_1*S_1,-S_1**2],\n",
        "                    [-C_1**2,-C_1*S_1,C_1**2,C_1*S_1],[-C_1*S_1,-S_1**2,C_1*S_1,S_1**2]])\n",
        "empty_mat1 = np.zeros((6,6))\n",
        "empty_mat1[0:4 , 0:4] = empty_mat1[0:4 ,0:4] + matrix_1\n",
        "#print(empty_mat1)\n",
        "# Element 2\n",
        "\n",
        "C_2 = 0\n",
        "S_2 = 1\n",
        "matrix_2 = 1.25*np.matrix([[C_2**2, C_2*S_2,-C_2**2,-C_2*S_2],[C_2*S_2,S_2**2,-C_2*S_2,-S_2**2],\n",
        "                    [-C_2**2,-C_2*S_2,C_2**2,C_2*S_2],[-C_2*S_2,-S_2**2,C_2*S_2,S_2**2]])\n",
        "empty_mat2 = np.zeros((6,6))\n",
        "empty_mat2[0:2,0:2] = empty_mat2[0:2,0:2] + matrix_2[0:2,0:2]\n",
        "empty_mat2[4:6,0:2] = empty_mat2[4:6,0:2] + matrix_2[2:4,0:2]\n",
        "empty_mat2[0:2,4:6] = empty_mat2[0:2,4:6] + matrix_2[2:4,2:4]\n",
        "empty_mat2[4:6,4:6] = empty_mat2[4:6,4:6] + matrix_2[0:2,0:2]\n",
        "\n",
        "print(empty_mat1+empty_mat2)"
      ],
      "metadata": {
        "colab": {
          "base_uri": "https://localhost:8080/"
        },
        "id": "xy3GreUiEVCy",
        "outputId": "adce3a5e-987e-4abb-a213-9916eb00fff1"
      },
      "execution_count": 8,
      "outputs": [
        {
          "output_type": "stream",
          "name": "stdout",
          "text": [
            "[[ 0.36  0.48 -0.36 -0.48  0.    0.  ]\n",
            " [ 0.48  1.89 -0.48 -0.64  0.    1.25]\n",
            " [-0.36 -0.48  0.36  0.48  0.    0.  ]\n",
            " [-0.48 -0.64  0.48  0.64  0.    0.  ]\n",
            " [ 0.    0.    0.    0.    0.    0.  ]\n",
            " [ 0.   -1.25  0.    0.    0.    1.25]]\n"
          ]
        }
      ]
    },
    {
      "cell_type": "markdown",
      "source": [
        "**4. Using NumPy, create an array of integers from 10 to 60 with a step of 5.**\n",
        "\n",
        "Answer:"
      ],
      "metadata": {
        "id": "OnulyjPKEX9S"
      }
    },
    {
      "cell_type": "code",
      "source": [
        "# Importing the NumPy library with an alias 'np'\n",
        "import numpy as np\n",
        "\n",
        "# Creating an array of integers from 10 to 60 using np.arange()\n",
        "array = np.arange(10, 60)\n",
        "\n",
        "# Printing a message indicating an array of integers from 10 to 60\n",
        "print(\"Array of the integers from 10 to 60\")\n",
        "\n",
        "# Printing the array of integers from 10 to 60\n",
        "print(array)"
      ],
      "metadata": {
        "colab": {
          "base_uri": "https://localhost:8080/"
        },
        "id": "-_3MLWXeErJc",
        "outputId": "c86b835e-40e5-4093-9188-e009a692766d"
      },
      "execution_count": 9,
      "outputs": [
        {
          "output_type": "stream",
          "name": "stdout",
          "text": [
            "Array of the integers from 10 to 60\n",
            "[10 11 12 13 14 15 16 17 18 19 20 21 22 23 24 25 26 27 28 29 30 31 32 33\n",
            " 34 35 36 37 38 39 40 41 42 43 44 45 46 47 48 49 50 51 52 53 54 55 56 57\n",
            " 58 59]\n"
          ]
        }
      ]
    },
    {
      "cell_type": "markdown",
      "source": [
        "**5. Create a NumPy array of strings ['python', 'numpy', 'pandas']. Apply different case transformations (uppercase, lowercase, title case, etc.) to each element.**\n",
        "\n",
        "Answer:\n",
        "\n"
      ],
      "metadata": {
        "id": "oDINlfQHEv6e"
      }
    },
    {
      "cell_type": "code",
      "source": [
        "\n",
        "# Importing necessary library\n",
        "import numpy as np\n",
        "\n",
        "# Creating a NumPy array containing strings\n",
        "x = np.array(['Python', 'numpy', 'pandas', 'Examples'], dtype=str)\n",
        "\n",
        "# Displaying the content of the original array\n",
        "print(\"\\nOriginal Array:\")\n",
        "print(x)\n",
        "\n",
        "# Checking if each element contains digits only\n",
        "r1 = np.char.isdigit(x)\n",
        "\n",
        "# Checking if each element contains lower case letters only\n",
        "r2 = np.char.islower(x)\n",
        "\n",
        "# Checking if each element contains upper case letters only\n",
        "r3 = np.char.isupper(x)\n",
        "\n",
        "# Displaying results\n",
        "print(\"Digits only =\", r1)\n",
        "print(\"Lower cases only =\", r2)\n",
        "print(\"Upper cases only =\", r3)\n"
      ],
      "metadata": {
        "colab": {
          "base_uri": "https://localhost:8080/"
        },
        "id": "uqoyzPFyE2ON",
        "outputId": "0909b0a6-1d14-4163-e098-528173c7b23b"
      },
      "execution_count": 10,
      "outputs": [
        {
          "output_type": "stream",
          "name": "stdout",
          "text": [
            "\n",
            "Original Array:\n",
            "['Python' 'numpy' 'pandas' 'Examples']\n",
            "Digits only = [False False False False]\n",
            "Lower cases only = [False  True  True False]\n",
            "Upper cases only = [False False False False]\n"
          ]
        }
      ]
    },
    {
      "cell_type": "markdown",
      "source": [
        "**6. Generate a NumPy array of words. Insert a space between each character of every word in the array.**\n",
        "\n",
        "Answer:\n"
      ],
      "metadata": {
        "id": "6dAP2QFXE4B0"
      }
    },
    {
      "cell_type": "code",
      "source": [
        "\n",
        "# Importing necessary library\n",
        "import numpy as np\n",
        "\n",
        "# Creating a NumPy array containing strings\n",
        "x = np.array(['python exercises', 'PHP', 'java', 'C++'], dtype=str)\n",
        "\n",
        "# Displaying the original array\n",
        "print(\"Original Array:\")\n",
        "print(x)\n",
        "\n",
        "# Using np.char.join to join elements of the array with a space character\n",
        "r = np.char.join(\" \", x)\n",
        "\n",
        "# Displaying the result after joining elements with a space\n",
        "print(r)"
      ],
      "metadata": {
        "colab": {
          "base_uri": "https://localhost:8080/"
        },
        "id": "4z9H39tbE-nZ",
        "outputId": "ab7f287a-9dcb-4d6b-d137-9f95a938506e"
      },
      "execution_count": 11,
      "outputs": [
        {
          "output_type": "stream",
          "name": "stdout",
          "text": [
            "Original Array:\n",
            "['python exercises' 'PHP' 'java' 'C++']\n",
            "['p y t h o n   e x e r c i s e s' 'P H P' 'j a v a' 'C + +']\n"
          ]
        }
      ]
    },
    {
      "cell_type": "markdown",
      "source": [
        "**7. Create two 2D NumPy arrays and perform element-wise addition, subtraction, multiplication, and division.**\n",
        "\n",
        "Answer:"
      ],
      "metadata": {
        "id": "t9CgBus8FCkq"
      }
    },
    {
      "cell_type": "code",
      "source": [
        "# Importing the NumPy library\n",
        "import numpy as np\n",
        "\n",
        "# Displaying a message for addition operation\n",
        "print(\"Add:\")\n",
        "# Performing addition\n",
        "print(np.add(1.0, 4.0))\n",
        "\n",
        "# Displaying a message for subtraction operation\n",
        "print(\"Subtract:\")\n",
        "# Performing subtraction\n",
        "print(np.subtract(1.0, 4.0))\n",
        "\n",
        "# Displaying a message for multiplication operation\n",
        "print(\"Multiply:\")\n",
        "# Performing multiplication\n",
        "print(np.multiply(1.0, 4.0))\n",
        "\n",
        "# Displaying a message for division operation\n",
        "print(\"Divide:\")\n",
        "# Performing division\n",
        "print(np.divide(1.0, 4.0))"
      ],
      "metadata": {
        "colab": {
          "base_uri": "https://localhost:8080/"
        },
        "id": "ILyIot3cFH93",
        "outputId": "c1924691-693a-46a5-f556-776f3e9bb1a2"
      },
      "execution_count": 12,
      "outputs": [
        {
          "output_type": "stream",
          "name": "stdout",
          "text": [
            "Add:\n",
            "5.0\n",
            "Subtract:\n",
            "-3.0\n",
            "Multiply:\n",
            "4.0\n",
            "Divide:\n",
            "0.25\n"
          ]
        }
      ]
    },
    {
      "cell_type": "markdown",
      "source": [
        "**8. Use NumPy to create a 5x5 identity matrix, then extract its diagonal elements**\n",
        "\n",
        "Answer:"
      ],
      "metadata": {
        "id": "iFw_S4KeFKPx"
      }
    },
    {
      "cell_type": "code",
      "source": [
        "\n",
        "# Importing the NumPy library with an alias 'np'\n",
        "import numpy as np\n",
        "\n",
        "# Creating a diagonal matrix with diagonal elements 7, 8, 9, 10, 11 using np.diag()\n",
        "x = np.diag([7, 8, 9, 10, 11])\n",
        "\n",
        "# Printing the diagonal matrix 'x'\n",
        "print(x)\n"
      ],
      "metadata": {
        "colab": {
          "base_uri": "https://localhost:8080/"
        },
        "id": "wUcnNzBnFPd3",
        "outputId": "d72abb3b-110e-4db5-f8a8-eb72c08d3bfc"
      },
      "execution_count": 13,
      "outputs": [
        {
          "output_type": "stream",
          "name": "stdout",
          "text": [
            "[[ 7  0  0  0  0]\n",
            " [ 0  8  0  0  0]\n",
            " [ 0  0  9  0  0]\n",
            " [ 0  0  0 10  0]\n",
            " [ 0  0  0  0 11]]\n"
          ]
        }
      ]
    },
    {
      "cell_type": "markdown",
      "source": [
        "**9. Generate a NumPy array of 100 random integers between 0 and 1000. Find and display all prime numbers in this array.**\n",
        "\n",
        "Answer:"
      ],
      "metadata": {
        "id": "bTzVVF-GFbqP"
      }
    },
    {
      "cell_type": "code",
      "source": [
        "\n",
        "from numpy import random\n",
        "\n",
        "x=random.randint(100, size=(10))\n",
        "\n",
        "print(x)"
      ],
      "metadata": {
        "colab": {
          "base_uri": "https://localhost:8080/"
        },
        "id": "ckN5GqE4FeW2",
        "outputId": "df9368c4-5df9-42be-ec15-1a378dc09689"
      },
      "execution_count": 15,
      "outputs": [
        {
          "output_type": "stream",
          "name": "stdout",
          "text": [
            "[93 69 58 57 54 33 76 92 23 90]\n"
          ]
        }
      ]
    },
    {
      "cell_type": "code",
      "source": [
        "\n",
        "for num in range(1,100):\n",
        "   if num > 1:\n",
        "       for i in range(2,num):\n",
        "           if (num % i) == 0:\n",
        "               break\n",
        "       else:\n",
        "           print(f\"{num} is a prime number!\")"
      ],
      "metadata": {
        "colab": {
          "base_uri": "https://localhost:8080/"
        },
        "id": "4vsBGj5zFpa1",
        "outputId": "0aacfa6f-b208-4002-804e-7a40a6ce72e7"
      },
      "execution_count": 16,
      "outputs": [
        {
          "output_type": "stream",
          "name": "stdout",
          "text": [
            "2 is a prime number!\n",
            "3 is a prime number!\n",
            "5 is a prime number!\n",
            "7 is a prime number!\n",
            "11 is a prime number!\n",
            "13 is a prime number!\n",
            "17 is a prime number!\n",
            "19 is a prime number!\n",
            "23 is a prime number!\n",
            "29 is a prime number!\n",
            "31 is a prime number!\n",
            "37 is a prime number!\n",
            "41 is a prime number!\n",
            "43 is a prime number!\n",
            "47 is a prime number!\n",
            "53 is a prime number!\n",
            "59 is a prime number!\n",
            "61 is a prime number!\n",
            "67 is a prime number!\n",
            "71 is a prime number!\n",
            "73 is a prime number!\n",
            "79 is a prime number!\n",
            "83 is a prime number!\n",
            "89 is a prime number!\n",
            "97 is a prime number!\n"
          ]
        }
      ]
    },
    {
      "cell_type": "markdown",
      "source": [
        "**10. Create a NumPy array representing daily temperatures for a month. Calculate and display the weekly averages.**\n",
        "\n",
        "Answer:\n"
      ],
      "metadata": {
        "id": "Uw6VHevZFsMJ"
      }
    },
    {
      "cell_type": "code",
      "source": [
        "\n",
        "week_days = [\"Monday\", \"Tuesday\", \"Wednesday\", \"Thursday\", \"Friday\", \"Saturday\", \"Sunday\"]\n",
        "\n",
        "print (\"Day\" + (\" \"*12) + \"High Temperature\")\n",
        "print (\"-\"*30)\n",
        "temperature = []\n",
        "temp = 0\n",
        "spaces = 0\n",
        "\n",
        "for i,x in enumerate(week_days):\n",
        "    temp_input = input (\"Enter the temperature for\" +x+str(\":\"))\n",
        "    temperature.append(int(temp_input))\n",
        "    spaces = 15-len(x)\n",
        "    print (x,\" \"*spaces,temperature[i])\n",
        "\n",
        "avg= sum(temperature)//len(week_days)\n",
        "\n",
        "\n",
        "print (\"The average temperature for this week is\", avg)"
      ],
      "metadata": {
        "colab": {
          "base_uri": "https://localhost:8080/"
        },
        "id": "IRDVWyEEF0sZ",
        "outputId": "f9ca3ec9-2150-4405-ab8a-de0d8fa9edf2"
      },
      "execution_count": 17,
      "outputs": [
        {
          "output_type": "stream",
          "name": "stdout",
          "text": [
            "Day            High Temperature\n",
            "------------------------------\n",
            "Enter the temperature forMonday:34\n",
            "Monday           34\n",
            "Enter the temperature forTuesday:35\n",
            "Tuesday          35\n",
            "Enter the temperature forWednesday:36\n",
            "Wednesday        36\n",
            "Enter the temperature forThursday:37\n",
            "Thursday         37\n",
            "Enter the temperature forFriday:38\n",
            "Friday           38\n",
            "Enter the temperature forSaturday:39\n",
            "Saturday         39\n",
            "Enter the temperature forSunday:40\n",
            "Sunday           40\n",
            "The average temperature for this week is 37\n"
          ]
        }
      ]
    }
  ]
}